{
  "nbformat": 4,
  "nbformat_minor": 0,
  "metadata": {
    "colab": {
      "provenance": [],
      "include_colab_link": true
    },
    "kernelspec": {
      "name": "python3",
      "display_name": "Python 3"
    },
    "language_info": {
      "name": "python"
    }
  },
  "cells": [
    {
      "cell_type": "markdown",
      "metadata": {
        "id": "view-in-github",
        "colab_type": "text"
      },
      "source": [
        "<a href=\"https://colab.research.google.com/github/MochamadSeptianRizky/astaq/blob/main/septian_tugasInheritanceSiswa2_ku.ipynb\" target=\"_parent\"><img src=\"https://colab.research.google.com/assets/colab-badge.svg\" alt=\"Open In Colab\"/></a>"
      ]
    },
    {
      "cell_type": "markdown",
      "source": [
        "Buatlah tiga kelas: User, Siswa, dan Guru. Class Siswa dan Guru mewarisi atribute dan fungsi dari class User. Keduanya menambahkan atribut dan fungsi tambahan sesuai dengan peran masing-masing.\n",
        "\n",
        "Output dari program ini akan menampilkan informasi seorang siswa dan seorang guru dengan menggunakan fungsi tampil_info() yang diwarisi dari class User. Untuk info user yang ditampilkan silakan ditentukan sendiri minimal ada nama dan umur.\n",
        "\n",
        "Untuk informasi khusus dari siswa dan guru silakan tentukan sendiri, minimal satu atribute tambahan yang membedakan antara siswa dan guru."
      ],
      "metadata": {
        "id": "oWYx5WDsIouf"
      }
    },
    {
      "cell_type": "code",
      "execution_count": 5,
      "metadata": {
        "id": "VQWWW4rpH9ve"
      },
      "outputs": [],
      "source": [
        "#Class user\n",
        "class user:\n",
        "  def __init__(self, nama, umur):\n",
        "    self.nama = nama\n",
        "    self.umur = umur\n",
        "\n",
        "  def tampil_info (self):\n",
        "    pass"
      ]
    },
    {
      "cell_type": "code",
      "source": [
        "#Class Siswa\n",
        "class Siswa(user):\n",
        "  def __init__(self, nama, umur, kelas):\n",
        "    super().__init__(nama, umur)\n",
        "    self.kelas = kelas\n",
        "\n",
        "  def tampil_info(self):\n",
        "    return self.kelas"
      ],
      "metadata": {
        "id": "i_iBjMciJJc5"
      },
      "execution_count": 6,
      "outputs": []
    },
    {
      "cell_type": "code",
      "source": [
        "#Class Guru\n",
        "class Guru (user):\n",
        "  def __init__(self, nama, umur,mata_pelajaran):\n",
        "    super().__init__(nama, umur)\n",
        "    self.mata_pelajaran = mata_pelajaran\n",
        "\n",
        "  def tampil_info(self):\n",
        "    return self.mata_pelajaran"
      ],
      "metadata": {
        "id": "lrnlKm6sJMjp"
      },
      "execution_count": 7,
      "outputs": []
    },
    {
      "cell_type": "code",
      "source": [
        "#Program utama untuk menampilkan info\n",
        "siswa1 = Siswa(\"rizky\", 16, \"XI RPL 2\")\n",
        "guru2 = Guru(\"bpk yunico\", 90, \"Pjok\")\n",
        "\n",
        "print(f\"Nama: {siswa1.nama} umur: {siswa1.umur} Kelas: {siswa1.kelas}\")\n",
        "print(f\"Nama: {guru2.nama} umur: {guru2.umur} Kelas: {guru2.mata_pelajaran}\")\n"
      ],
      "metadata": {
        "id": "VDGIma_2JOVx",
        "colab": {
          "base_uri": "https://localhost:8080/"
        },
        "outputId": "b67b4d20-e62b-4d53-a3f6-e3c0b331ba68"
      },
      "execution_count": 9,
      "outputs": [
        {
          "output_type": "stream",
          "name": "stdout",
          "text": [
            "Nama: rizky umur: 16 Kelas: XI RPL 2\n",
            "Nama: bpk yunico umur: 90 Kelas: Pjok\n"
          ]
        }
      ]
    }
  ]
}