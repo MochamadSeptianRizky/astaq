{
  "nbformat": 4,
  "nbformat_minor": 0,
  "metadata": {
    "colab": {
      "provenance": [],
      "include_colab_link": true
    },
    "kernelspec": {
      "name": "python3",
      "display_name": "Python 3"
    },
    "language_info": {
      "name": "python"
    }
  },
  "cells": [
    {
      "cell_type": "markdown",
      "metadata": {
        "id": "view-in-github",
        "colab_type": "text"
      },
      "source": [
        "<a href=\"https://colab.research.google.com/github/MochamadSeptianRizky/astaq/blob/main/septian_TugasOverriding2.ipynb\" target=\"_parent\"><img src=\"https://colab.research.google.com/assets/colab-badge.svg\" alt=\"Open In Colab\"/></a>"
      ]
    },
    {
      "cell_type": "markdown",
      "source": [
        "Anda bekerja sebagai programmer di sebuah supermarket besar. Manajemen supermarket ingin Anda mengembangkan program Python untuk mengelola berbagai jenis produk yang mereka jual di toko mereka. Mereka memiliki kelas dasar **Produk** dengan atribut berikut:\n",
        "\n",
        "*   kode_barang (kode unik produk)\n",
        "*   nama (nama produk)\n",
        "*   harga (harga produk)\n",
        "\n",
        "Selain itu, mereka memiliki dua jenis produk spesifik: **ProdukMakanan** dan **ProdukElektronik**. Produk makanan memiliki atribut tambahan:\n",
        "\n",
        "*   tanggal_kadaluarsa (tanggal kadaluarsa makanan)\n",
        "\n",
        "Sementara Produk elektronik memiliki atribut tambahan:\n",
        "\n",
        "*   garansi (lama garansi dalam bulan)\n",
        "\n",
        "Manajemen supermarket ingin Anda membuat program Python yang memungkinkan mereka untuk mencetak informasi tentang setiap produk, termasuk kode barang, nama, harga, serta atribut tambahan yang sesuai (tanggal kadaluarsa atau lama garansi).\n",
        "\n",
        "Tugas Anda adalah:\n",
        "\n",
        "\n",
        "1.   Membuat kelas Produk dengan atribut kode_barang, nama, dan harga, serta metode deskripsi yang mencetak informasi tentang produk tersebut.\n",
        "2.   Membuat kelas ProdukMakanan yang mewarisi dari kelas Produk dan memiliki atribut tambahan tanggal_kadaluarsa, serta mengimplementasikan metode deskripsi untuk mencetak informasi tentang produk makanan.\n",
        "1.   Membuat kelas ProdukElektronik yang juga mewarisi dari kelas Produk dan memiliki atribut tambahan garansi, serta mengimplementasikan metode deskripsi untuk mencetak informasi tentang produk elektronik.\n",
        "\n",
        "Program Anda harus mendemonstrasikan penggunaan konsep **overriding** dalam Python dalam konteks produk di supermarket.\n",
        "\n",
        "Selamat mengerjakan!\n",
        "\n",
        "\n",
        "\n",
        "\n",
        "\n"
      ],
      "metadata": {
        "id": "Yo0ulCyP2WPG"
      }
    },
    {
      "cell_type": "code",
      "execution_count": 9,
      "metadata": {
        "id": "tG1-g1OW2KSu"
      },
      "outputs": [],
      "source": [
        "class Produk:\n",
        "  def __init__(self, kode_barang, nama, harga):\n",
        "    self.kode_barang = kode_barang\n",
        "    self.nama = nama\n",
        "    self.harga = harga\n",
        "  def deskripsi(self):\n",
        "    print(f\"kode_barang: {self.kode_barang}\")\n",
        "    print(f\"nama: {self.nama}\")\n",
        "    print(f\"harga: {self.harga}\")"
      ]
    },
    {
      "cell_type": "code",
      "source": [
        "class ProdukMakanan(Produk):\n",
        "  def __init__(self, kode_barang, nama, harga, tanggal_kadaluarsa):\n",
        "    super().__init__(kode_barang, nama, harga)\n",
        "    self.tanggal_kadaluarsa = tanggal_kadaluarsa\n",
        "\n",
        "  def deskripsi(self):\n",
        "    super().deskripsi()\n",
        "    print(f\"tanggal_kadaluarsa: {self.tanggal_kadaluarsa}\")"
      ],
      "metadata": {
        "id": "oy32Lm4m39l0"
      },
      "execution_count": 10,
      "outputs": []
    },
    {
      "cell_type": "code",
      "source": [
        "class ProdukElektronik(Produk):\n",
        "  def __init__(self, kode_barang, nama, harga, garansi):\n",
        "    super().__init__(kode_barang, nama, harga)\n",
        "    self.garansi = garansi\n",
        "\n",
        "  def deskripsi(self):\n",
        "    super().deskripsi()\n",
        "    print(f\"garansi: {self.garansi}\")"
      ],
      "metadata": {
        "id": "wEgEGwxm4A1y"
      },
      "execution_count": 11,
      "outputs": []
    },
    {
      "cell_type": "code",
      "source": [
        "#Nama: septian\n",
        "#kelas: XI rpl 2\n",
        "# Contoh penggunaan masing-masing jenis class produk\n",
        "# produk makanan di sini\n",
        "produk_makanan = ProdukMakanan(\"987544\", \"miesedap\", 3500, \"24-04-2028\")\n",
        "\n",
        "\n",
        "# produk elektronik di sini\n",
        "produk_elektronik = ProdukElektronik(\"676888\", \"handphone\", 1200000, 12)\n",
        "\n",
        "\n",
        "# Deskripsi produk makanan\n",
        "print(\"Deskripsi Produk Makanan:\")\n",
        "# lengkapi\n",
        "produk_makanan.deskripsi()\n",
        "# Deskripsi produk elektronik\n",
        "print(\"\\nDeskripsi Produk Elektronik:\")\n",
        "# lengkapi\n",
        "produk_elektronik.deskripsi()"
      ],
      "metadata": {
        "id": "noeSP_dw4F4c",
        "colab": {
          "base_uri": "https://localhost:8080/"
        },
        "outputId": "0fe95ef1-70dd-4a5d-ff50-34875287a7e2"
      },
      "execution_count": 13,
      "outputs": [
        {
          "output_type": "stream",
          "name": "stdout",
          "text": [
            "Deskripsi Produk Makanan:\n",
            "kode_barang: 987544\n",
            "nama: miesedap\n",
            "harga: 3500\n",
            "tanggal_kadaluarsa: 24-04-2028\n",
            "\n",
            "Deskripsi Produk Elektronik:\n",
            "kode_barang: 676888\n",
            "nama: handphone\n",
            "harga: 1200000\n",
            "garansi: 12\n"
          ]
        }
      ]
    }
  ]
}